{
 "cells": [
  {
   "cell_type": "code",
   "execution_count": 1,
   "metadata": {
    "collapsed": true
   },
   "outputs": [],
   "source": [
    "import datetime\n",
    "import pandas as pd\n",
    "import numpy as np\n",
    "from sklearn.ensemble import RandomForestClassifier\n",
    "from sklearn.cross_validation import train_test_split\n",
    "import ml_metrics as metrics"
   ]
  },
  {
   "cell_type": "code",
   "execution_count": 6,
   "metadata": {
    "collapsed": true
   },
   "outputs": [],
   "source": [
    "dtype={'is_booking':bool,\n",
    "        'srch_ci' : np.str_,\n",
    "        'srch_co' : np.str_,\n",
    "        'srch_adults_cnt' : np.int32,\n",
    "        'srch_children_cnt' : np.int32,\n",
    "        'srch_rm_cnt' : np.int32,\n",
    "        'srch_destination_id':np.str_,\n",
    "        'user_location_country' : np.str_,\n",
    "        'user_location_region' : np.str_,\n",
    "        'user_location_city' : np.str_,\n",
    "        'hotel_cluster' : np.str_,\n",
    "        'orig_destination_distance':np.float64,\n",
    "        'date_time':np.str_,\n",
    "        'hotel_market':np.str_}"
   ]
  },
  {
   "cell_type": "code",
   "execution_count": 7,
   "metadata": {
    "collapsed": false
   },
   "outputs": [],
   "source": [
    "df0 = pd.read_csv('data/train.csv',dtype=dtype, usecols=dtype, parse_dates=['date_time'] ,sep=',')\n",
    "df0['year']=df0['date_time'].dt.year\n",
    "train = df0.query('is_booking==True & year==2014')"
   ]
  },
  {
   "cell_type": "code",
   "execution_count": 8,
   "metadata": {
    "collapsed": true
   },
   "outputs": [],
   "source": [
    "del df0"
   ]
  },
  {
   "cell_type": "markdown",
   "metadata": {},
   "source": [
    "# Feature Engineering "
   ]
  },
  {
   "cell_type": "code",
   "execution_count": 9,
   "metadata": {
    "collapsed": true
   },
   "outputs": [],
   "source": [
    "train['srch_ci']=pd.to_datetime(train['srch_ci'],infer_datetime_format = True,errors='coerce')\n",
    "train['srch_co']=pd.to_datetime(train['srch_co'],infer_datetime_format = True,errors='coerce')\n",
    "\n",
    "train['month']= train['date_time'].dt.month\n",
    "train['plan_time'] = ((train['srch_ci']-train['date_time'])/np.timedelta64(1,'D')).astype(float)\n",
    "train['hotel_nights']=((train['srch_co']-train['srch_ci'])/np.timedelta64(1,'D')).astype(float)"
   ]
  },
  {
   "cell_type": "code",
   "execution_count": 10,
   "metadata": {
    "collapsed": true
   },
   "outputs": [],
   "source": [
    "m=train.orig_destination_distance.mean()\n",
    "train['orig_destination_distance']=train.orig_destination_distance.fillna(m)\n",
    "train.fillna(-1,inplace=True)\n",
    "lst_drop=['date_time','srch_ci','srch_co']\n",
    "train.drop(lst_drop,axis=1,inplace=True)"
   ]
  },
  {
   "cell_type": "code",
   "execution_count": 11,
   "metadata": {
    "collapsed": true
   },
   "outputs": [],
   "source": [
    "y=train['hotel_cluster']\n",
    "X=train.drop(['hotel_cluster','is_booking','year'],axis=1)"
   ]
  },
  {
   "cell_type": "code",
   "execution_count": 12,
   "metadata": {
    "collapsed": true
   },
   "outputs": [],
   "source": [
    "del train"
   ]
  },
  {
   "cell_type": "markdown",
   "metadata": {},
   "source": [
    "# Train model with all training data"
   ]
  },
  {
   "cell_type": "code",
   "execution_count": 13,
   "metadata": {
    "collapsed": true
   },
   "outputs": [],
   "source": [
    "dtype1={'srch_ci' : np.str_,\n",
    "        'srch_co' : np.str_,\n",
    "        'srch_adults_cnt' : np.int32,\n",
    "        'srch_children_cnt' : np.int32,\n",
    "        'srch_rm_cnt' : np.int32,\n",
    "        'srch_destination_id':np.str_,\n",
    "        'user_location_country' : np.str_,\n",
    "        'user_location_region' : np.str_,\n",
    "        'user_location_city' : np.str_,\n",
    "        'orig_destination_distance':np.float64,\n",
    "        'date_time':np.str_,\n",
    "        'hotel_market':np.str_}"
   ]
  },
  {
   "cell_type": "code",
   "execution_count": 14,
   "metadata": {
    "collapsed": true
   },
   "outputs": [],
   "source": [
    "test1 = pd.read_csv('data/test.csv',dtype=dtype1,usecols=dtype1,parse_dates=['date_time'] ,sep=',')\n",
    "test1['srch_ci']=pd.to_datetime(test1['srch_ci'],infer_datetime_format = True,errors='coerce')\n",
    "test1['srch_co']=pd.to_datetime(test1['srch_co'],infer_datetime_format = True,errors='coerce')\n",
    "\n",
    "test1['month']=test1['date_time'].dt.month\n",
    "test1['plan_time'] = ((test1['srch_ci']-test1['date_time'])/np.timedelta64(1,'D')).astype(float)\n",
    "test1['hotel_nights']=((test1['srch_co']-test1['srch_ci'])/np.timedelta64(1,'D')).astype(float)\n",
    "\n",
    "n=test1.orig_destination_distance.mean()\n",
    "test1['orig_destination_distance']=test1.orig_destination_distance.fillna(m)\n",
    "test1.fillna(-1,inplace=True)"
   ]
  },
  {
   "cell_type": "code",
   "execution_count": 15,
   "metadata": {
    "collapsed": false
   },
   "outputs": [
    {
     "data": {
      "text/plain": [
       "RandomForestClassifier(bootstrap=True, class_weight=None, criterion='gini',\n",
       "            max_depth=10, max_features='auto', max_leaf_nodes=None,\n",
       "            min_samples_leaf=1, min_samples_split=2,\n",
       "            min_weight_fraction_leaf=0.0, n_estimators=31, n_jobs=1,\n",
       "            oob_score=False, random_state=123, verbose=0, warm_start=False)"
      ]
     },
     "execution_count": 15,
     "metadata": {},
     "output_type": "execute_result"
    }
   ],
   "source": [
    "lst_drop=['date_time','srch_ci','srch_co']\n",
    "test1.drop(lst_drop,axis=1, inplace=True)\n",
    "rf_all = RandomForestClassifier(n_estimators=31,max_depth=10,random_state=123)\n",
    "rf_all.fit(X,y)"
   ]
  },
  {
   "cell_type": "code",
   "execution_count": 16,
   "metadata": {
    "collapsed": true
   },
   "outputs": [],
   "source": [
    "del X,y"
   ]
  },
  {
   "cell_type": "markdown",
   "metadata": {},
   "source": [
    "# Predict on all test data"
   ]
  },
  {
   "cell_type": "code",
   "execution_count": 17,
   "metadata": {
    "collapsed": true
   },
   "outputs": [],
   "source": [
    "def predict_test_file(trained_model, df_feature_engineered_test_data):\n",
    "    lst_y_predicted = []\n",
    "    for i in range(6):\n",
    "        print 'batch',i+1, '/7'\n",
    "        y_pred = trained_model.predict_proba(df_feature_engineered_test_data.iloc[i*450000:(i+1)*450000,:])\n",
    "        top_5_for_this_batch = y_pred.argsort(axis=1)[:,-5:]\n",
    "        lst_y_predicted.append(top_5_for_this_batch)\n",
    "    dict_cluster = {}\n",
    "    print 'getting cluster names...'\n",
    "    for (k,v) in enumerate(trained_model.classes_):\n",
    "        dict_cluster[k] = v\n",
    "    print 'translating to hotel clusters...'\n",
    "    b = []\n",
    "    for i in np.vstack(lst_y_predicted).flatten():\n",
    "        b.append(dict_cluster.get(i))\n",
    "    predict_class=np.array(b).reshape(np.vstack(lst_y_predicted).shape)\n",
    "    predict_class=map(lambda x: ' '.join(map(str,x)), predict_class)\n",
    "    print 'creating submit file...'\n",
    "    df_submission_sample = pd.DataFrame.from_csv('data/sample_submission.csv')\n",
    "    df_submission_sample['hotel_cluster'] = predict_class\n",
    "    df_submission_sample.to_csv('file_to_submit.csv')\n",
    "    print 'job done. file_to_submit.csv ready in your expedia folder.'"
   ]
  },
  {
   "cell_type": "markdown",
   "metadata": {},
   "source": [
    "### "
   ]
  },
  {
   "cell_type": "code",
   "execution_count": 18,
   "metadata": {
    "collapsed": false
   },
   "outputs": [
    {
     "name": "stdout",
     "output_type": "stream",
     "text": [
      "batch 1 /7\n",
      "batch 2 /7\n",
      "batch 3 /7\n",
      "batch 4 /7\n",
      "batch 5 /7\n",
      "batch 6 /7\n",
      "getting cluster names...\n",
      "translating to hotel clusters...\n",
      "creating submit file...\n",
      "job done. file_to_submit.csv ready in your expedia folder.\n"
     ]
    }
   ],
   "source": [
    "predict_test_file(rf_all, test1)"
   ]
  },
  {
   "cell_type": "code",
   "execution_count": null,
   "metadata": {
    "collapsed": true
   },
   "outputs": [],
   "source": []
  },
  {
   "cell_type": "code",
   "execution_count": null,
   "metadata": {
    "collapsed": true
   },
   "outputs": [],
   "source": []
  },
  {
   "cell_type": "code",
   "execution_count": null,
   "metadata": {
    "collapsed": true
   },
   "outputs": [],
   "source": []
  },
  {
   "cell_type": "code",
   "execution_count": null,
   "metadata": {
    "collapsed": true
   },
   "outputs": [],
   "source": []
  },
  {
   "cell_type": "code",
   "execution_count": null,
   "metadata": {
    "collapsed": true
   },
   "outputs": [],
   "source": []
  },
  {
   "cell_type": "code",
   "execution_count": null,
   "metadata": {
    "collapsed": true
   },
   "outputs": [],
   "source": []
  },
  {
   "cell_type": "code",
   "execution_count": null,
   "metadata": {
    "collapsed": true
   },
   "outputs": [],
   "source": []
  },
  {
   "cell_type": "code",
   "execution_count": null,
   "metadata": {
    "collapsed": true
   },
   "outputs": [],
   "source": []
  },
  {
   "cell_type": "code",
   "execution_count": null,
   "metadata": {
    "collapsed": true
   },
   "outputs": [],
   "source": []
  }
 ],
 "metadata": {
  "kernelspec": {
   "display_name": "Python 3",
   "language": "python",
   "name": "python3"
  },
  "language_info": {
   "codemirror_mode": {
    "name": "ipython",
    "version": 3
   },
   "file_extension": ".py",
   "mimetype": "text/x-python",
   "name": "python",
   "nbconvert_exporter": "python",
   "pygments_lexer": "ipython3",
   "version": "3.5.2"
  }
 },
 "nbformat": 4,
 "nbformat_minor": 0
}
